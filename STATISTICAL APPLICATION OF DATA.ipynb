{
 "cells": [
  {
   "cell_type": "code",
   "execution_count": 1,
   "metadata": {},
   "outputs": [
    {
     "name": "stdout",
     "output_type": "stream",
     "text": [
      "           open       close         low        high\n",
      "0    123.430000  125.839996  122.309998  126.250000\n",
      "1    125.239998  119.980003  119.940002  125.540001\n",
      "2    116.379997  114.949997  114.930000  119.739998\n",
      "3    115.480003  116.620003  113.500000  117.440002\n",
      "4    117.010002  114.970001  114.089996  117.330002\n",
      "..          ...         ...         ...         ...\n",
      "246  123.089996  124.489998  122.709999  124.660004\n",
      "247  124.570000  124.279999  124.010002  124.900002\n",
      "248  124.300003  122.379997  121.900002  124.300003\n",
      "249  122.449997  122.169998  121.599998  123.070000\n",
      "250  122.589996  122.279999  121.389999  123.559998\n",
      "\n",
      "[251 rows x 4 columns]\n"
     ]
    }
   ],
   "source": [
    "# Importing data\n",
    "import pandas as pd\n",
    "dataset = pd.read_csv(\"D:\\Bitan\\IIAS\\python_project.csv\")\n",
    "print(dataset)"
   ]
  },
  {
   "cell_type": "code",
   "execution_count": 2,
   "metadata": {},
   "outputs": [
    {
     "data": {
      "text/html": [
       "<div>\n",
       "<style scoped>\n",
       "    .dataframe tbody tr th:only-of-type {\n",
       "        vertical-align: middle;\n",
       "    }\n",
       "\n",
       "    .dataframe tbody tr th {\n",
       "        vertical-align: top;\n",
       "    }\n",
       "\n",
       "    .dataframe thead th {\n",
       "        text-align: right;\n",
       "    }\n",
       "</style>\n",
       "<table border=\"1\" class=\"dataframe\">\n",
       "  <thead>\n",
       "    <tr style=\"text-align: right;\">\n",
       "      <th></th>\n",
       "      <th>open</th>\n",
       "      <th>close</th>\n",
       "      <th>low</th>\n",
       "      <th>high</th>\n",
       "    </tr>\n",
       "  </thead>\n",
       "  <tbody>\n",
       "    <tr>\n",
       "      <th>count</th>\n",
       "      <td>251.000000</td>\n",
       "      <td>251.000000</td>\n",
       "      <td>251.000000</td>\n",
       "      <td>251.000000</td>\n",
       "    </tr>\n",
       "    <tr>\n",
       "      <th>mean</th>\n",
       "      <td>121.943227</td>\n",
       "      <td>121.982988</td>\n",
       "      <td>120.617211</td>\n",
       "      <td>123.044781</td>\n",
       "    </tr>\n",
       "    <tr>\n",
       "      <th>std</th>\n",
       "      <td>5.451107</td>\n",
       "      <td>5.428375</td>\n",
       "      <td>5.701749</td>\n",
       "      <td>5.181789</td>\n",
       "    </tr>\n",
       "    <tr>\n",
       "      <th>min</th>\n",
       "      <td>105.629997</td>\n",
       "      <td>107.129997</td>\n",
       "      <td>104.110001</td>\n",
       "      <td>109.260002</td>\n",
       "    </tr>\n",
       "    <tr>\n",
       "      <th>25%</th>\n",
       "      <td>118.535000</td>\n",
       "      <td>118.729999</td>\n",
       "      <td>117.274998</td>\n",
       "      <td>120.289997</td>\n",
       "    </tr>\n",
       "    <tr>\n",
       "      <th>50%</th>\n",
       "      <td>123.239998</td>\n",
       "      <td>123.410004</td>\n",
       "      <td>122.050003</td>\n",
       "      <td>124.449997</td>\n",
       "    </tr>\n",
       "    <tr>\n",
       "      <th>75%</th>\n",
       "      <td>125.500000</td>\n",
       "      <td>125.444999</td>\n",
       "      <td>124.095001</td>\n",
       "      <td>126.324997</td>\n",
       "    </tr>\n",
       "    <tr>\n",
       "      <th>max</th>\n",
       "      <td>132.449997</td>\n",
       "      <td>132.770004</td>\n",
       "      <td>131.119995</td>\n",
       "      <td>133.399994</td>\n",
       "    </tr>\n",
       "  </tbody>\n",
       "</table>\n",
       "</div>"
      ],
      "text/plain": [
       "             open       close         low        high\n",
       "count  251.000000  251.000000  251.000000  251.000000\n",
       "mean   121.943227  121.982988  120.617211  123.044781\n",
       "std      5.451107    5.428375    5.701749    5.181789\n",
       "min    105.629997  107.129997  104.110001  109.260002\n",
       "25%    118.535000  118.729999  117.274998  120.289997\n",
       "50%    123.239998  123.410004  122.050003  124.449997\n",
       "75%    125.500000  125.444999  124.095001  126.324997\n",
       "max    132.449997  132.770004  131.119995  133.399994"
      ]
     },
     "execution_count": 2,
     "metadata": {},
     "output_type": "execute_result"
    }
   ],
   "source": [
    "# Calculating statistical parameters\n",
    "dataset.describe()"
   ]
  },
  {
   "cell_type": "code",
   "execution_count": 3,
   "metadata": {},
   "outputs": [
    {
     "name": "stdout",
     "output_type": "stream",
     "text": [
      "SKEWNESS : \n",
      "\n",
      "open    -0.713374\n",
      "close   -0.723031\n",
      "low     -0.741546\n",
      "high    -0.672788\n",
      "dtype: float64\n",
      "\n",
      "MEDIAN : \n",
      "\n",
      "open     123.239998\n",
      "close    123.410004\n",
      "low      122.050003\n",
      "high     124.449997\n",
      "dtype: float64\n",
      "\n",
      "MODE : \n",
      "\n",
      "          open       close         low        high\n",
      "0   124.000000  121.480003  108.320000  112.110001\n",
      "1   125.099998  124.000000  109.639999         NaN\n",
      "2          NaN         NaN  111.010002         NaN\n",
      "3          NaN         NaN  112.589996         NaN\n",
      "4          NaN         NaN  115.930000         NaN\n",
      "5          NaN         NaN  121.199997         NaN\n",
      "6          NaN         NaN  121.459999         NaN\n",
      "7          NaN         NaN  121.949997         NaN\n",
      "8          NaN         NaN  122.110001         NaN\n",
      "9          NaN         NaN  122.599998         NaN\n",
      "10         NaN         NaN  122.680000         NaN\n",
      "11         NaN         NaN  122.750000         NaN\n",
      "12         NaN         NaN  122.860001         NaN\n",
      "13         NaN         NaN  122.870003         NaN\n",
      "14         NaN         NaN  123.160004         NaN\n",
      "15         NaN         NaN  123.589996         NaN\n",
      "16         NaN         NaN  124.070000         NaN\n",
      "17         NaN         NaN  124.120003         NaN\n",
      "18         NaN         NaN  125.419998         NaN\n"
     ]
    }
   ],
   "source": [
    "print(\"SKEWNESS : \")\n",
    "print()\n",
    "print(dataset.skew())\n",
    "print()\n",
    "print(\"MEDIAN : \")\n",
    "print()\n",
    "print(dataset.median())\n",
    "print()\n",
    "print(\"MODE : \")\n",
    "print()\n",
    "print(dataset.mode())"
   ]
  }
 ],
 "metadata": {
  "kernelspec": {
   "display_name": "Python 3",
   "language": "python",
   "name": "python3"
  },
  "language_info": {
   "codemirror_mode": {
    "name": "ipython",
    "version": 3
   },
   "file_extension": ".py",
   "mimetype": "text/x-python",
   "name": "python",
   "nbconvert_exporter": "python",
   "pygments_lexer": "ipython3",
   "version": "3.8.5"
  }
 },
 "nbformat": 4,
 "nbformat_minor": 4
}
