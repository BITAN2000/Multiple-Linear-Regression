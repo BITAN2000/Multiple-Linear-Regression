{
 "cells": [
  {
   "cell_type": "markdown",
   "metadata": {},
   "source": [
    "# IMPORTING NECESSARY LIBRARIES"
   ]
  },
  {
   "cell_type": "code",
   "execution_count": 1,
   "metadata": {},
   "outputs": [],
   "source": [
    "#!/usr/bin/python\n",
    "import numpy as np\n",
    "import pandas as pd\n",
    "import matplotlib.pyplot as plt\n",
    "%matplotlib inline\n",
    "import os\n",
    "os.chdir(\"D:\\Bitan\\IIAS\")"
   ]
  },
  {
   "cell_type": "markdown",
   "metadata": {},
   "source": [
    "# READING THE CSV FILE"
   ]
  },
  {
   "cell_type": "code",
   "execution_count": 2,
   "metadata": {},
   "outputs": [
    {
     "name": "stdout",
     "output_type": "stream",
     "text": [
      "                       date symbol        open       close         low  \\\n",
      "0       2016-01-05 00:00:00   WLTW  123.430000  125.839996  122.309998   \n",
      "1       2016-01-06 00:00:00   WLTW  125.239998  119.980003  119.940002   \n",
      "2       2016-01-07 00:00:00   WLTW  116.379997  114.949997  114.930000   \n",
      "3       2016-01-08 00:00:00   WLTW  115.480003  116.620003  113.500000   \n",
      "4       2016-01-11 00:00:00   WLTW  117.010002  114.970001  114.089996   \n",
      "...                     ...    ...         ...         ...         ...   \n",
      "851259           2016-12-30    ZBH  103.309998  103.199997  102.849998   \n",
      "851260           2016-12-30   ZION   43.070000   43.040001   42.689999   \n",
      "851261           2016-12-30    ZTS   53.639999   53.529999   53.270000   \n",
      "851262  2016-12-30 00:00:00    AIV   44.730000   45.450001   44.410000   \n",
      "851263  2016-12-30 00:00:00    FTV   54.200001   53.630001   53.389999   \n",
      "\n",
      "              high     volume  \n",
      "0       126.250000  2163600.0  \n",
      "1       125.540001  2386400.0  \n",
      "2       119.739998  2489500.0  \n",
      "3       117.440002  2006300.0  \n",
      "4       117.330002  1408600.0  \n",
      "...            ...        ...  \n",
      "851259  103.930000   973800.0  \n",
      "851260   43.310001  1938100.0  \n",
      "851261   53.740002  1701200.0  \n",
      "851262   45.590000  1380900.0  \n",
      "851263   54.480000   705100.0  \n",
      "\n",
      "[851264 rows x 7 columns]\n"
     ]
    }
   ],
   "source": [
    "dataset = pd.read_csv(\"D:\\Bitan\\IIAS\\stock data\\prices.csv\")\n",
    "print(dataset)"
   ]
  },
  {
   "cell_type": "markdown",
   "metadata": {},
   "source": [
    "# GETTING THE SHAPE OF THE DATASET"
   ]
  },
  {
   "cell_type": "code",
   "execution_count": 3,
   "metadata": {},
   "outputs": [
    {
     "data": {
      "text/plain": [
       "(851264, 7)"
      ]
     },
     "execution_count": 3,
     "metadata": {},
     "output_type": "execute_result"
    }
   ],
   "source": [
    "dataset.shape"
   ]
  },
  {
   "cell_type": "markdown",
   "metadata": {},
   "source": [
    "# CHECKING FOR NULL VALUE"
   ]
  },
  {
   "cell_type": "code",
   "execution_count": 4,
   "metadata": {},
   "outputs": [
    {
     "data": {
      "text/plain": [
       "date      0\n",
       "symbol    0\n",
       "open      0\n",
       "close     0\n",
       "low       0\n",
       "high      0\n",
       "volume    0\n",
       "dtype: int64"
      ]
     },
     "execution_count": 4,
     "metadata": {},
     "output_type": "execute_result"
    }
   ],
   "source": [
    "dataset.isnull().sum()"
   ]
  },
  {
   "cell_type": "markdown",
   "metadata": {},
   "source": [
    "# GETTING INFORMATION ABOUT THE DATASET"
   ]
  },
  {
   "cell_type": "code",
   "execution_count": 5,
   "metadata": {},
   "outputs": [
    {
     "name": "stdout",
     "output_type": "stream",
     "text": [
      "<class 'pandas.core.frame.DataFrame'>\n",
      "RangeIndex: 851264 entries, 0 to 851263\n",
      "Data columns (total 7 columns):\n",
      " #   Column  Non-Null Count   Dtype  \n",
      "---  ------  --------------   -----  \n",
      " 0   date    851264 non-null  object \n",
      " 1   symbol  851264 non-null  object \n",
      " 2   open    851264 non-null  float64\n",
      " 3   close   851264 non-null  float64\n",
      " 4   low     851264 non-null  float64\n",
      " 5   high    851264 non-null  float64\n",
      " 6   volume  851264 non-null  float64\n",
      "dtypes: float64(5), object(2)\n",
      "memory usage: 45.5+ MB\n"
     ]
    }
   ],
   "source": [
    "dataset.info()"
   ]
  },
  {
   "cell_type": "markdown",
   "metadata": {},
   "source": [
    "# FILTERING DATA FROM DATASET "
   ]
  },
  {
   "cell_type": "code",
   "execution_count": 6,
   "metadata": {},
   "outputs": [
    {
     "name": "stdout",
     "output_type": "stream",
     "text": [
      "                    date symbol        open       close         low  \\\n",
      "0    2016-01-05 00:00:00   WLTW  123.430000  125.839996  122.309998   \n",
      "1    2016-01-06 00:00:00   WLTW  125.239998  119.980003  119.940002   \n",
      "2    2016-01-07 00:00:00   WLTW  116.379997  114.949997  114.930000   \n",
      "3    2016-01-08 00:00:00   WLTW  115.480003  116.620003  113.500000   \n",
      "4    2016-01-11 00:00:00   WLTW  117.010002  114.970001  114.089996   \n",
      "..                   ...    ...         ...         ...         ...   \n",
      "246  2016-12-23 00:00:00   WLTW  123.089996  124.489998  122.709999   \n",
      "247  2016-12-27 00:00:00   WLTW  124.570000  124.279999  124.010002   \n",
      "248  2016-12-28 00:00:00   WLTW  124.300003  122.379997  121.900002   \n",
      "249  2016-12-29 00:00:00   WLTW  122.449997  122.169998  121.599998   \n",
      "250  2016-12-30 00:00:00   WLTW  122.589996  122.279999  121.389999   \n",
      "\n",
      "           high     volume  \n",
      "0    126.250000  2163600.0  \n",
      "1    125.540001  2386400.0  \n",
      "2    119.739998  2489500.0  \n",
      "3    117.440002  2006300.0  \n",
      "4    117.330002  1408600.0  \n",
      "..          ...        ...  \n",
      "246  124.660004   361900.0  \n",
      "247  124.900002   382900.0  \n",
      "248  124.300003   429900.0  \n",
      "249  123.070000   216600.0  \n",
      "250  123.559998   466400.0  \n",
      "\n",
      "[251 rows x 7 columns]\n"
     ]
    }
   ],
   "source": [
    "df = dataset[dataset['symbol']=='WLTW']\n",
    "print(df)"
   ]
  },
  {
   "cell_type": "code",
   "execution_count": 7,
   "metadata": {},
   "outputs": [
    {
     "name": "stdout",
     "output_type": "stream",
     "text": [
      "           open       close         low        high\n",
      "0    123.430000  125.839996  122.309998  126.250000\n",
      "1    125.239998  119.980003  119.940002  125.540001\n",
      "2    116.379997  114.949997  114.930000  119.739998\n",
      "3    115.480003  116.620003  113.500000  117.440002\n",
      "4    117.010002  114.970001  114.089996  117.330002\n",
      "..          ...         ...         ...         ...\n",
      "246  123.089996  124.489998  122.709999  124.660004\n",
      "247  124.570000  124.279999  124.010002  124.900002\n",
      "248  124.300003  122.379997  121.900002  124.300003\n",
      "249  122.449997  122.169998  121.599998  123.070000\n",
      "250  122.589996  122.279999  121.389999  123.559998\n",
      "\n",
      "[251 rows x 4 columns]\n"
     ]
    }
   ],
   "source": [
    "df1 = df.drop(['date', 'symbol','volume'], axis = 1)\n",
    "print(df1)"
   ]
  },
  {
   "cell_type": "markdown",
   "metadata": {},
   "source": [
    "# SAVING FILTERED DATA TO NEW CSV FILE"
   ]
  },
  {
   "cell_type": "code",
   "execution_count": 8,
   "metadata": {},
   "outputs": [
    {
     "name": "stdout",
     "output_type": "stream",
     "text": [
      "           open       close         low        high\n",
      "0    123.430000  125.839996  122.309998  126.250000\n",
      "1    125.239998  119.980003  119.940002  125.540001\n",
      "2    116.379997  114.949997  114.930000  119.739998\n",
      "3    115.480003  116.620003  113.500000  117.440002\n",
      "4    117.010002  114.970001  114.089996  117.330002\n",
      "..          ...         ...         ...         ...\n",
      "246  123.089996  124.489998  122.709999  124.660004\n",
      "247  124.570000  124.279999  124.010002  124.900002\n",
      "248  124.300003  122.379997  121.900002  124.300003\n",
      "249  122.449997  122.169998  121.599998  123.070000\n",
      "250  122.589996  122.279999  121.389999  123.559998\n",
      "\n",
      "[251 rows x 4 columns]\n"
     ]
    }
   ],
   "source": [
    "df1.to_csv('python_project.csv',index = False)\n",
    "df2 = pd.read_csv(\"D:\\Bitan\\IIAS\\python_project.csv\")\n",
    "print(df2)"
   ]
  },
  {
   "cell_type": "markdown",
   "metadata": {},
   "source": [
    "# FIRST 5 ROWS OF FILTERED DATA "
   ]
  },
  {
   "cell_type": "code",
   "execution_count": 9,
   "metadata": {},
   "outputs": [
    {
     "data": {
      "text/html": [
       "<div>\n",
       "<style scoped>\n",
       "    .dataframe tbody tr th:only-of-type {\n",
       "        vertical-align: middle;\n",
       "    }\n",
       "\n",
       "    .dataframe tbody tr th {\n",
       "        vertical-align: top;\n",
       "    }\n",
       "\n",
       "    .dataframe thead th {\n",
       "        text-align: right;\n",
       "    }\n",
       "</style>\n",
       "<table border=\"1\" class=\"dataframe\">\n",
       "  <thead>\n",
       "    <tr style=\"text-align: right;\">\n",
       "      <th></th>\n",
       "      <th>open</th>\n",
       "      <th>close</th>\n",
       "      <th>low</th>\n",
       "      <th>high</th>\n",
       "    </tr>\n",
       "  </thead>\n",
       "  <tbody>\n",
       "    <tr>\n",
       "      <th>0</th>\n",
       "      <td>123.430000</td>\n",
       "      <td>125.839996</td>\n",
       "      <td>122.309998</td>\n",
       "      <td>126.250000</td>\n",
       "    </tr>\n",
       "    <tr>\n",
       "      <th>1</th>\n",
       "      <td>125.239998</td>\n",
       "      <td>119.980003</td>\n",
       "      <td>119.940002</td>\n",
       "      <td>125.540001</td>\n",
       "    </tr>\n",
       "    <tr>\n",
       "      <th>2</th>\n",
       "      <td>116.379997</td>\n",
       "      <td>114.949997</td>\n",
       "      <td>114.930000</td>\n",
       "      <td>119.739998</td>\n",
       "    </tr>\n",
       "    <tr>\n",
       "      <th>3</th>\n",
       "      <td>115.480003</td>\n",
       "      <td>116.620003</td>\n",
       "      <td>113.500000</td>\n",
       "      <td>117.440002</td>\n",
       "    </tr>\n",
       "    <tr>\n",
       "      <th>4</th>\n",
       "      <td>117.010002</td>\n",
       "      <td>114.970001</td>\n",
       "      <td>114.089996</td>\n",
       "      <td>117.330002</td>\n",
       "    </tr>\n",
       "  </tbody>\n",
       "</table>\n",
       "</div>"
      ],
      "text/plain": [
       "         open       close         low        high\n",
       "0  123.430000  125.839996  122.309998  126.250000\n",
       "1  125.239998  119.980003  119.940002  125.540001\n",
       "2  116.379997  114.949997  114.930000  119.739998\n",
       "3  115.480003  116.620003  113.500000  117.440002\n",
       "4  117.010002  114.970001  114.089996  117.330002"
      ]
     },
     "execution_count": 9,
     "metadata": {},
     "output_type": "execute_result"
    }
   ],
   "source": [
    "df2.head()"
   ]
  },
  {
   "cell_type": "markdown",
   "metadata": {},
   "source": [
    "# GETTING INFORMATION ABOUT THE FILTERED DATASET"
   ]
  },
  {
   "cell_type": "code",
   "execution_count": 10,
   "metadata": {},
   "outputs": [
    {
     "name": "stdout",
     "output_type": "stream",
     "text": [
      "<class 'pandas.core.frame.DataFrame'>\n",
      "RangeIndex: 251 entries, 0 to 250\n",
      "Data columns (total 4 columns):\n",
      " #   Column  Non-Null Count  Dtype  \n",
      "---  ------  --------------  -----  \n",
      " 0   open    251 non-null    float64\n",
      " 1   close   251 non-null    float64\n",
      " 2   low     251 non-null    float64\n",
      " 3   high    251 non-null    float64\n",
      "dtypes: float64(4)\n",
      "memory usage: 8.0 KB\n"
     ]
    }
   ],
   "source": [
    "df2.info()"
   ]
  },
  {
   "cell_type": "markdown",
   "metadata": {},
   "source": [
    "# TAKING THE VALUES OF X AND Y"
   ]
  },
  {
   "cell_type": "code",
   "execution_count": 11,
   "metadata": {},
   "outputs": [],
   "source": [
    "X  = df1[['open','high','low']]\n",
    "Y = df1['close']"
   ]
  },
  {
   "cell_type": "markdown",
   "metadata": {},
   "source": [
    "# SPLITTING THE DATASET INTO TRAINING AND TESTING SET"
   ]
  },
  {
   "cell_type": "code",
   "execution_count": 12,
   "metadata": {},
   "outputs": [],
   "source": [
    "from sklearn.model_selection import train_test_split\n",
    "X_train , X_test , Y_train , Y_test = train_test_split(X ,Y , random_state = 0)"
   ]
  },
  {
   "cell_type": "markdown",
   "metadata": {},
   "source": [
    "# GETTING THE SHAPE OF TRAINING AND TESTING SET"
   ]
  },
  {
   "cell_type": "code",
   "execution_count": 13,
   "metadata": {},
   "outputs": [
    {
     "data": {
      "text/plain": [
       "(188, 3)"
      ]
     },
     "execution_count": 13,
     "metadata": {},
     "output_type": "execute_result"
    }
   ],
   "source": [
    "X_train.shape"
   ]
  },
  {
   "cell_type": "code",
   "execution_count": 14,
   "metadata": {},
   "outputs": [
    {
     "data": {
      "text/plain": [
       "(63, 3)"
      ]
     },
     "execution_count": 14,
     "metadata": {},
     "output_type": "execute_result"
    }
   ],
   "source": [
    "X_test.shape"
   ]
  },
  {
   "cell_type": "markdown",
   "metadata": {},
   "source": [
    "# BULIDING LINEAR REGRESSION MODEL"
   ]
  },
  {
   "cell_type": "code",
   "execution_count": 15,
   "metadata": {},
   "outputs": [],
   "source": [
    "from sklearn.linear_model import LinearRegression\n",
    "from sklearn.metrics import accuracy_score\n",
    "regressor = LinearRegression()"
   ]
  },
  {
   "cell_type": "code",
   "execution_count": 16,
   "metadata": {},
   "outputs": [
    {
     "data": {
      "text/plain": [
       "LinearRegression()"
      ]
     },
     "execution_count": 16,
     "metadata": {},
     "output_type": "execute_result"
    }
   ],
   "source": [
    "regressor.fit(X_train,Y_train)"
   ]
  },
  {
   "cell_type": "code",
   "execution_count": 17,
   "metadata": {},
   "outputs": [
    {
     "name": "stdout",
     "output_type": "stream",
     "text": [
      "The value of m for 'open','high','low' are :  [-0.51154345  0.73499253  0.76718932] respectively\n",
      "The value of c is :  1.3589331166951268\n"
     ]
    }
   ],
   "source": [
    "#CALCULATING m AND c\n",
    "print(\"The value of m for 'open','high','low' are : \",regressor.coef_,\"respectively\")\n",
    "print(\"The value of c is : \",regressor.intercept_)"
   ]
  },
  {
   "cell_type": "code",
   "execution_count": 18,
   "metadata": {},
   "outputs": [
    {
     "name": "stdout",
     "output_type": "stream",
     "text": [
      "           open        high         low\n",
      "153  122.510002  122.830002  121.070000\n",
      "122  118.339996  121.010002  118.050003\n",
      "92   123.400002  124.169998  121.139999\n",
      "158  122.099998  123.050003  120.430000\n",
      "149  119.570000  121.419998  118.080002\n",
      "..          ...         ...         ...\n",
      "134  124.830002  124.830002  123.620003\n",
      "15   110.769997  112.570000  109.019997\n",
      "191  131.820007  132.639999  131.119995\n",
      "74   122.610001  124.129997  121.930000\n",
      "7    113.510002  115.029999  110.050003\n",
      "\n",
      "[63 rows x 3 columns]\n"
     ]
    }
   ],
   "source": [
    "# PREDICTING THE VALUES\n",
    "predicted=regressor.predict(X_test)\n",
    "print(X_test)"
   ]
  },
  {
   "cell_type": "code",
   "execution_count": 19,
   "metadata": {},
   "outputs": [],
   "source": [
    "df3=pd.DataFrame(Y_test,predicted)"
   ]
  },
  {
   "cell_type": "code",
   "execution_count": 20,
   "metadata": {},
   "outputs": [
    {
     "name": "stdout",
     "output_type": "stream",
     "text": [
      "     Actual stock price  Predicted stock price\n",
      "153          121.470001             121.852488\n",
      "122          121.000000             120.331032\n",
      "92           123.410004             122.435804\n",
      "158          122.720001             121.732921\n",
      "149          120.589996             120.026190\n",
      "..                  ...                    ...\n",
      "134          123.980003             124.092027\n",
      "15           110.709999             111.072352\n",
      "191          132.089996             132.010539\n",
      "74           123.010002             123.416604\n",
      "7            114.379997             112.269011\n",
      "\n",
      "[63 rows x 2 columns]\n"
     ]
    }
   ],
   "source": [
    "df4=pd.DataFrame({'Actual stock price':Y_test,'Predicted stock price':predicted})\n",
    "print(df4)"
   ]
  },
  {
   "cell_type": "code",
   "execution_count": 21,
   "metadata": {},
   "outputs": [
    {
     "data": {
      "text/html": [
       "<div>\n",
       "<style scoped>\n",
       "    .dataframe tbody tr th:only-of-type {\n",
       "        vertical-align: middle;\n",
       "    }\n",
       "\n",
       "    .dataframe tbody tr th {\n",
       "        vertical-align: top;\n",
       "    }\n",
       "\n",
       "    .dataframe thead th {\n",
       "        text-align: right;\n",
       "    }\n",
       "</style>\n",
       "<table border=\"1\" class=\"dataframe\">\n",
       "  <thead>\n",
       "    <tr style=\"text-align: right;\">\n",
       "      <th></th>\n",
       "      <th>Actual stock price</th>\n",
       "      <th>Predicted stock price</th>\n",
       "    </tr>\n",
       "  </thead>\n",
       "  <tbody>\n",
       "    <tr>\n",
       "      <th>153</th>\n",
       "      <td>121.470001</td>\n",
       "      <td>121.852488</td>\n",
       "    </tr>\n",
       "    <tr>\n",
       "      <th>122</th>\n",
       "      <td>121.000000</td>\n",
       "      <td>120.331032</td>\n",
       "    </tr>\n",
       "    <tr>\n",
       "      <th>92</th>\n",
       "      <td>123.410004</td>\n",
       "      <td>122.435804</td>\n",
       "    </tr>\n",
       "    <tr>\n",
       "      <th>158</th>\n",
       "      <td>122.720001</td>\n",
       "      <td>121.732921</td>\n",
       "    </tr>\n",
       "    <tr>\n",
       "      <th>149</th>\n",
       "      <td>120.589996</td>\n",
       "      <td>120.026190</td>\n",
       "    </tr>\n",
       "    <tr>\n",
       "      <th>162</th>\n",
       "      <td>122.209999</td>\n",
       "      <td>122.719172</td>\n",
       "    </tr>\n",
       "    <tr>\n",
       "      <th>152</th>\n",
       "      <td>122.750000</td>\n",
       "      <td>122.893648</td>\n",
       "    </tr>\n",
       "    <tr>\n",
       "      <th>83</th>\n",
       "      <td>126.559998</td>\n",
       "      <td>126.274502</td>\n",
       "    </tr>\n",
       "    <tr>\n",
       "      <th>63</th>\n",
       "      <td>115.470001</td>\n",
       "      <td>115.221873</td>\n",
       "    </tr>\n",
       "    <tr>\n",
       "      <th>144</th>\n",
       "      <td>123.839996</td>\n",
       "      <td>124.996634</td>\n",
       "    </tr>\n",
       "    <tr>\n",
       "      <th>155</th>\n",
       "      <td>121.480003</td>\n",
       "      <td>121.373606</td>\n",
       "    </tr>\n",
       "    <tr>\n",
       "      <th>231</th>\n",
       "      <td>119.940002</td>\n",
       "      <td>120.420461</td>\n",
       "    </tr>\n",
       "    <tr>\n",
       "      <th>108</th>\n",
       "      <td>129.580002</td>\n",
       "      <td>129.122065</td>\n",
       "    </tr>\n",
       "    <tr>\n",
       "      <th>187</th>\n",
       "      <td>132.770004</td>\n",
       "      <td>132.428708</td>\n",
       "    </tr>\n",
       "    <tr>\n",
       "      <th>116</th>\n",
       "      <td>127.330002</td>\n",
       "      <td>126.455501</td>\n",
       "    </tr>\n",
       "    <tr>\n",
       "      <th>73</th>\n",
       "      <td>122.309998</td>\n",
       "      <td>122.263455</td>\n",
       "    </tr>\n",
       "    <tr>\n",
       "      <th>204</th>\n",
       "      <td>126.449997</td>\n",
       "      <td>126.169755</td>\n",
       "    </tr>\n",
       "    <tr>\n",
       "      <th>203</th>\n",
       "      <td>127.290001</td>\n",
       "      <td>128.004658</td>\n",
       "    </tr>\n",
       "    <tr>\n",
       "      <th>178</th>\n",
       "      <td>124.680000</td>\n",
       "      <td>124.718226</td>\n",
       "    </tr>\n",
       "    <tr>\n",
       "      <th>96</th>\n",
       "      <td>125.949997</td>\n",
       "      <td>125.663109</td>\n",
       "    </tr>\n",
       "    <tr>\n",
       "      <th>157</th>\n",
       "      <td>122.559998</td>\n",
       "      <td>122.472083</td>\n",
       "    </tr>\n",
       "    <tr>\n",
       "      <th>45</th>\n",
       "      <td>116.820000</td>\n",
       "      <td>115.850492</td>\n",
       "    </tr>\n",
       "    <tr>\n",
       "      <th>238</th>\n",
       "      <td>124.459999</td>\n",
       "      <td>124.814480</td>\n",
       "    </tr>\n",
       "    <tr>\n",
       "      <th>111</th>\n",
       "      <td>124.959999</td>\n",
       "      <td>125.033237</td>\n",
       "    </tr>\n",
       "    <tr>\n",
       "      <th>199</th>\n",
       "      <td>128.009995</td>\n",
       "      <td>128.497541</td>\n",
       "    </tr>\n",
       "  </tbody>\n",
       "</table>\n",
       "</div>"
      ],
      "text/plain": [
       "     Actual stock price  Predicted stock price\n",
       "153          121.470001             121.852488\n",
       "122          121.000000             120.331032\n",
       "92           123.410004             122.435804\n",
       "158          122.720001             121.732921\n",
       "149          120.589996             120.026190\n",
       "162          122.209999             122.719172\n",
       "152          122.750000             122.893648\n",
       "83           126.559998             126.274502\n",
       "63           115.470001             115.221873\n",
       "144          123.839996             124.996634\n",
       "155          121.480003             121.373606\n",
       "231          119.940002             120.420461\n",
       "108          129.580002             129.122065\n",
       "187          132.770004             132.428708\n",
       "116          127.330002             126.455501\n",
       "73           122.309998             122.263455\n",
       "204          126.449997             126.169755\n",
       "203          127.290001             128.004658\n",
       "178          124.680000             124.718226\n",
       "96           125.949997             125.663109\n",
       "157          122.559998             122.472083\n",
       "45           116.820000             115.850492\n",
       "238          124.459999             124.814480\n",
       "111          124.959999             125.033237\n",
       "199          128.009995             128.497541"
      ]
     },
     "execution_count": 21,
     "metadata": {},
     "output_type": "execute_result"
    }
   ],
   "source": [
    "# FIRST 25 ROWS OF df3\n",
    "df4.head(25)"
   ]
  },
  {
   "cell_type": "code",
   "execution_count": 22,
   "metadata": {},
   "outputs": [
    {
     "name": "stdout",
     "output_type": "stream",
     "text": [
      "mean squared error :  0.5724143761167254\n",
      "root mean squared error :  0.7565807135505936\n",
      "coefficient of determination :  0.9779549045748848\n"
     ]
    }
   ],
   "source": [
    "# CALCULATING OTHER PARAMETERS\n",
    "import math\n",
    "from sklearn.metrics import mean_squared_error,r2_score\n",
    "print(\"mean squared error : \",mean_squared_error(Y_test,predicted))\n",
    "print(\"root mean squared error : \",np.sqrt(mean_squared_error(Y_test,predicted)))\n",
    "print(\"coefficient of determination : \",r2_score(Y_test,predicted))"
   ]
  },
  {
   "cell_type": "markdown",
   "metadata": {},
   "source": [
    "# PLOTTING GRAPH"
   ]
  },
  {
   "cell_type": "code",
   "execution_count": 23,
   "metadata": {},
   "outputs": [
    {
     "data": {
      "image/png": "[encoded data removed]",
      "text/plain": [
       "<Figure size 432x288 with 1 Axes>"
      ]
     },
     "metadata": {
      "needs_background": "light"
     },
     "output_type": "display_data"
    }
   ],
   "source": [
    "# PLOTTING FIRST 10 DATA POINTS USING BAR GRAPH\n",
    "graph=df4.head(10)\n",
    "graph.plot(kind='bar')\n",
    "plt.title(\"Multiple Linear Regression Model\")\n",
    "plt.ylabel(\"Stock price\")\n",
    "plt.xlabel(\"Index\")\n",
    "plt.show()"
   ]
  },
  {
   "cell_type": "code",
   "execution_count": 24,
   "metadata": {},
   "outputs": [
    {
     "data": {
      "image/png": "[encoded data removed]",
      "text/plain": [
       "<Figure size 432x288 with 1 Axes>"
      ]
     },
     "metadata": {
      "needs_background": "light"
     },
     "output_type": "display_data"
    }
   ],
   "source": [
    "# PLOTTING LAST 10 DATA POINTS USING BAR GRAPH\n",
    "graph=df4.tail(10)\n",
    "graph.plot(kind='bar')\n",
    "plt.title(\"Multiple Linear Regression Model\")\n",
    "plt.ylabel(\"Stock price\")\n",
    "plt.xlabel(\"Index\")\n",
    "plt.show()"
   ]
  },
  {
   "cell_type": "code",
   "execution_count": 25,
   "metadata": {},
   "outputs": [
    {
     "data": {
      "image/png": "[encoded data removed]",
      "text/plain": [
       "<Figure size 432x288 with 1 Axes>"
      ]
     },
     "metadata": {
      "needs_background": "light"
     },
     "output_type": "display_data"
    }
   ],
   "source": [
    "# PLOTTING DATA USING SCATTER PLOT AND FITTING TRENDLINE\n",
    "x1 = df4[['Actual stock price']]\n",
    "y1 = df4[['Predicted stock price']]\n",
    "lin_reg = LinearRegression()\n",
    "lin_reg.fit(x1,y1)\n",
    "plt.scatter(x1,y1)\n",
    "plt.plot(x1,lin_reg.predict(x1),color = 'red')\n",
    "plt.title(\"Multiple Linear Regression\")\n",
    "plt.xlabel(\"Actual stock price\")\n",
    "plt.ylabel(\"Predicted stock price\")\n",
    "plt.show()"
   ]
  }
 ],
 "metadata": {
  "kernelspec": {
   "display_name": "Python 3",
   "language": "python",
   "name": "python3"
  },
  "language_info": {
   "codemirror_mode": {
    "name": "ipython",
    "version": 3
   },
   "file_extension": ".py",
   "mimetype": "text/x-python",
   "name": "python",
   "nbconvert_exporter": "python",
   "pygments_lexer": "ipython3",
   "version": "3.8.5"
  }
 },
 "nbformat": 4,
 "nbformat_minor": 4
}
